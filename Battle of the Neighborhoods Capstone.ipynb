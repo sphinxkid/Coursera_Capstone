{
    "cells": [
        {
            "cell_type": "markdown",
            "metadata": {},
            "source": "# The Dota 2 International Tourist Guide"
        },
        {
            "cell_type": "markdown",
            "metadata": {},
            "source": "## 1. Introduction"
        },
        {
            "cell_type": "markdown",
            "metadata": {},
            "source": "The International is the premier esports tournament for the video game Dota 2, hosted and produced by the game's developer, Valve. It is being held annually starting from 2011 upto the present. The event has been attended and watched by fans across the globe.\n\nThe first iteration of the International was on August 1, 2011 and was held on Gamescom in cologne. The tournament was born due to re-allocation of marketing funds. Instead of doing traditional marketing through advertising, Valve opted to do a tournament instead, boasting a 1 million USD grand prize. Since then the tournament was held every year with the last iteration being held in Shanghai, China.\n\nThe tournament boast the largest prize pool in all of esports, giving out a total of 34 million USD in prizes in 2019. The prizepool is a result of a crowdfunding scheme called the battle pass. 25% of the purchases made from the battle pass goes into the prizepool, in which the community was able to raise more than 30 million to add to the prizepool.[1]\n\nThe International consists of 18 teams which came from 6 major regions which include: North America, South America, Southeast Asia, China, Europe and CIS. It is a spectacle that has been watched by millions of people. In 2019, the total peak viewers(excluding China) amounted to 1,968,497 and has an average viewership of 726,754.\nThe venues that the tournament was held on has been consistently sold-out.[2]\n\nThe next iteration of the International will be held on the Ericsson Globe, Stockholm, Sweden. It has a seating capacity of 16,000 people which is expected to sellout.[3] However, on April 30, 2020, Valve announced that the event would be cancelled due to the current Covid-19 pandemic and is possible to return on 2021.[4]"
        },
        {
            "cell_type": "markdown",
            "metadata": {},
            "source": "### 1.a. Business Problem"
        },
        {
            "cell_type": "markdown",
            "metadata": {},
            "source": "There will be spectators around the world coming to Sweden for the International. \n\n#### How can their experience in Sweden as tourists and spectators improve during the International?"
        },
        {
            "cell_type": "markdown",
            "metadata": {},
            "source": "### 1.b. Solution"
        },
        {
            "cell_type": "markdown",
            "metadata": {},
            "source": "The solution would be by creating a tourist guide that would help the spectators plan and prepare their iterenary during their stay in Sweden. It would leveraging data from Foursquare API to aquire information regarding Hotels, Food Venues and Pubs and processing that data so that it can be easily consumed by the spectators.\n\nWhat's the value of improving the esport experience?\n\nIt has been projected that esports are going to grow at unprecedented levels. According to a Goldman Sachs report[5], the monthly audience would reach 276 million by 2022. The audience is mostly young and digitally inclined, where 79% are under 35 yrs. old. In Dota 2, the audience is predominantly young to middle aged adults, hence the inclusion of Pubs. The total esport prizepool is projected to 413 million in 2022 and Dota 2 boast the highest of them all in 2019.\n\nImproving the experience of offline events would also improve the outlook of esports."
        },
        {
            "cell_type": "markdown",
            "metadata": {},
            "source": "***"
        },
        {
            "cell_type": "markdown",
            "metadata": {},
            "source": "## 2. Data"
        },
        {
            "cell_type": "markdown",
            "metadata": {},
            "source": "The data that is going to be used is a collection of Hotels, Food venues, and Pubs. The data is going to be acquired through Foursquare API. The data would be consisted of venues within the 10km range of the Ericsson Globe. There would be 3 primary datasets representing each venue category(hotel, food, pubs). The rationale for picking these specific category of venues because the target audience are sporting event spectators and not regular tourists. The International spans around 5-6 days of matches around 8 hours each day. Most of the time the spectator is inside the stadium and mostly only goes out to go back to their room or eat. The inclusion of hotels would help the audience plan where they are staying ahead of time since they would need to stay in Sweden for at least a week. The food venues would help them pick which venues they can eat. And pubs are for night meetups for the dota 2 community.\n\nBy covering these 3  major venues, the tourist guide would be able to meet most the audience's travel needs."
        },
        {
            "cell_type": "markdown",
            "metadata": {},
            "source": "Here is an example of the JSON file extracted:\n![json sample](https://i.imgur.com/VUWrTjH.jpg)"
        },
        {
            "cell_type": "markdown",
            "metadata": {},
            "source": "After collecting the list of venues, I would run another set of queries to acquire details on the venue. The details include:\n<table>\n<thead>\n<tr>\n<th>Field</th>\n<th>Description</th>\n</tr>\n</thead>\n<tbody>\n<tr>\n<td>id</td>\n<td>A unique string identifier for this venue.</td>\n</tr>\n<tr>\n<td>name</td>\n<td>The best known name for this venue.</td>\n</tr>\n<tr>\n<td>contact</td>\n<td>An object containing none, some, or all of <code class=\"language-text\">twitter</code>, <code class=\"language-text\">phone</code>, and <code class=\"language-text\">formattedPhone</code>. All are strings.</td>\n</tr>\n<tr>\n<td>location</td>\n<td>An object containing none, some, or all of <code class=\"language-text\">address</code> (street address), <code class=\"language-text\">crossStreet</code>, <code class=\"language-text\">city</code>, <code class=\"language-text\">state</code>, <code class=\"language-text\">postalCode</code>, <code class=\"language-text\">country</code>, <code class=\"language-text\">lat</code>, <code class=\"language-text\">lng</code>, and <code class=\"language-text\">distance</code>. All fields are strings, except for <code class=\"language-text\">lat</code>, <code class=\"language-text\">lng</code>, and <code class=\"language-text\">distance</code>. Distance is measured in meters. Some venues have their locations intentionally hidden for privacy reasons (such as private residences). If this is the case, the parameter <code class=\"language-text\">isFuzzed</code> will be set to true, and the <code class=\"language-text\">lat</code>/<code class=\"language-text\">lng</code> parameters will have reduced precision.</td>\n</tr>\n<tr>\n<td>categories</td>\n<td>An array, possibly empty, of <a href=\"/docs/resources/categories\">categories</a> that have been applied to this venue. One of the categories will have a <code class=\"language-text\">primary</code> field indicating that it is the primary category for the venue. For the complete category tree, see <a href=\"/docs/resources/categories\">categories</a>.</td>\n</tr>\n<tr>\n<td>verified</td>\n<td>Boolean indicating whether the owner of this business has claimed it and verified the information.</td>\n</tr>\n<tr>\n<td>stats</td>\n<td>Contains <code class=\"language-text\">checkinsCount</code> (total checkins ever here), <code class=\"language-text\">usersCount</code> (total users who have ever checked in here), and <code class=\"language-text\">tipCount</code> (number of tips here).</td>\n</tr>\n<tr>\n<td>url</td>\n<td>URL of the venue's website, typically provided by the venue manager.</td>\n</tr>\n<tr>\n<td>hours</td>\n<td>Contains the <a href=\"/docs/venues/hours\">hours</a> during the week that the venue is open along with any named hours segments in a human-readable format. For machine readable hours see <a href=\"/docs/venues/hours\">venues/hours</a></td>\n</tr>\n<tr>\n<td>popular</td>\n<td>Contains the <a href=\"/docs/venues/hours\">hours</a> during the week when people usually go to the venue.</td>\n</tr>\n<tr>\n<td>menu</td>\n<td>An object containing <code class=\"language-text\">url</code> and <code class=\"language-text\">mobileUrl</code> that display the <a href=\"/docs/venues/menu\">menu</a> information for this venue.</td>\n</tr>\n<tr>\n<td>price</td>\n<td>An object containing the price <code class=\"language-text\">tier</code> from 1 (least pricey) - 4 (most pricey) and a <code class=\"language-text\">message</code> describing the price tier.</td>\n</tr>\n<tr>\n<td>rating</td>\n<td>Numerical rating of the venue (0 through 10). Returned as part of an explore result, excluded in search results. Not all venues will have a rating.</td>\n</tr>\n<tr>\n<td>hereNow</td>\n<td>Information about who is here now. If present, there is always a <code class=\"language-text\">count</code>, the number of people here. If viewing details and there is a logged-in user, there is also a <code class=\"language-text\">groups</code> field with <code class=\"language-text\">friends</code> and <code class=\"language-text\">others</code> as <code class=\"language-text\">type</code>s.</td>\n</tr>\n<tr>\n<td>storeId</td>\n<td>The manager's internal identifier for the venue.</td>\n</tr>\n<tr>\n<td>description</td>\n<td>Description of the venue provided by venue owner.</td>\n</tr>\n<tr>\n<td>createdAt</td>\n<td>Seconds since epoch when the venue was created.</td>\n</tr>\n<tr>\n<td>mayor</td>\n<td><code class=\"language-text\">user</code> who is the mayor (absent if there is no mayor), and <code class=\"language-text\">count</code>, the number of times they have checked in within the last 60 days.</td>\n</tr>\n<tr>\n<td>tips</td>\n<td>Contains the total <code class=\"language-text\">count</code> of tips and <code class=\"language-text\">groups</code> with <code class=\"language-text\">friends</code> and <code class=\"language-text\">others</code> as <code class=\"language-text\">groupType</code>s. Groups may change over time.</td>\n</tr>\n<tr>\n<td>listed</td>\n<td>A grouped response of lists that contain this venue. Contains a <code class=\"language-text\">summary</code> string representing the acting user's relationship to these lists. If an acting user is present, groups may include <code class=\"language-text\">todos</code>, <code class=\"language-text\">created</code>, <code class=\"language-text\">edited</code>, <code class=\"language-text\">followed</code>, <code class=\"language-text\">friends</code>, and <code class=\"language-text\">others</code>. If this venue is on the acting user's todo list, those items will be included in the <code class=\"language-text\">todos</code> group.</td>\n</tr>\n<tr>\n<td>beenHere</td>\n<td>Contains <code class=\"language-text\">count</code> of the number of times the acting user has been here. Absent if there is no acting user.</td>\n</tr>\n<tr>\n<td>shortUrl</td>\n<td>A short URL for this venue, e.g. <a href=\"http://4sq.com/Ab123D\">http://4sq.com/Ab123D</a></td>\n</tr>\n<tr>\n<td>canonicalUrl</td>\n<td>The canonical URL for this venue, e.g. <a href=\"https://foursquare.com/v/foursquare-hq/4ab7e57cf964a5205f7b20e3\">https://foursquare.com/v/foursquare-hq/4ab7e57cf964a5205f7b20e3</a></td>\n</tr>\n<tr>\n<td>photos</td>\n<td>A <code class=\"language-text\">count</code> and <code class=\"language-text\">groups</code> of <a href=\"/docs/venues/photos\">photos</a> for this venue. Group types are <code class=\"language-text\">checkin</code> and <code class=\"language-text\">venue</code>. Not all items will be present.</td>\n</tr>\n<tr>\n<td>likes</td>\n<td>The <code class=\"language-text\">count</code> of users who have liked this venue, and <code class=\"language-text\">groups</code> containing any <code class=\"language-text\">friends</code> and <code class=\"language-text\">others</code> who have liked it. The groups included are subject to change.</td>\n</tr>\n<tr>\n<td>like</td>\n<td>Indicates if the current user has liked this venue.</td>\n</tr>\n<tr>\n<td>dislike</td>\n<td>Indicates if the current user has disliked this venue.</td>\n</tr>\n<tr>\n<td>phrases</td>\n<td>List of phrases commonly seen in this venue's tips, as well as a sample tip snippet and the number of tips this phrase appears in.</td>\n</tr>\n<tr>\n<td>attributes</td>\n<td>Attributes associated with the venue, such as price tier, whether the venue takes reservations, and parking availability.</td>\n</tr>\n<tr>\n<td>roles</td>\n<td>Present if and only if the current user has at least one assigned role for this venue. The value is a list of all of the current user's assigned roles for this venue. Possible values for each element of the list are <code class=\"language-text\">manager</code> and <code class=\"language-text\">employee</code>. Subject to change as additional roles may be defined.</td>\n</tr>\n<tr>\n<td>page</td>\n<td><code class=\"language-text\">user</code> is the branded page associated with the venue. If the venue is part of a chain, this will be a user object referring to the chain. For venues that are being managed and not part of a chain, this will contain a user object that uniquely refers to this venue.</td>\n</tr>\n<tr>\n<td>bestPhoto</td>\n<td>Photo we have determined to be the best photo for the venue based on user upvotes and our internal algorithm.</td>\n</tr>\n</tbody>\n</table>"
        },
        {
            "cell_type": "markdown",
            "metadata": {},
            "source": "All the details would be placed into its specific dataframe and then would be processed through clustering. Then, the results would be visualized through a map."
        },
        {
            "cell_type": "markdown",
            "metadata": {},
            "source": "***"
        },
        {
            "cell_type": "markdown",
            "metadata": {},
            "source": "## References"
        },
        {
            "cell_type": "markdown",
            "metadata": {},
            "source": "[1] The International (Dota 2). In Wikipedia. https://en.wikipedia.org/wiki/The_International_(Dota_2) Retrieved May 9, 2020.\n\n[2] The International 2019. Esport Charts. https://escharts.com/tournaments/dota2/international-2019. Retrieved May 9, 2020.\n\n[3] Ericsson Globe. In Wikipedia. https://en.wikipedia.org/wiki/Ericsson_Globe. Retrieved May 9, 2020.\n\n[4] Dota Team. The International[Blog Post]. http://blog.dota2.com/2020/04/the-international-2/. Retrived May 9, 2020.\n\n[5] Esports Join the Big Leagues. Goldman Sachs. https://www.goldmansachs.com/insights/pages/infographics/e-sports/index.html?cid=sch-pd-bing-esportshub-searchad-201810-----&mkwid=9b1dvEvt. Retrieved May 9, 2020."
        }
    ],
    "metadata": {
        "kernelspec": {
            "display_name": "Python 3.6",
            "language": "python",
            "name": "python3"
        },
        "language_info": {
            "codemirror_mode": {
                "name": "ipython",
                "version": 3
            },
            "file_extension": ".py",
            "mimetype": "text/x-python",
            "name": "python",
            "nbconvert_exporter": "python",
            "pygments_lexer": "ipython3",
            "version": "3.6.9"
        }
    },
    "nbformat": 4,
    "nbformat_minor": 1
}